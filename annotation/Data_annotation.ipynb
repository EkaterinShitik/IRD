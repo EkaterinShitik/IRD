{
 "cells": [
  {
   "cell_type": "code",
   "execution_count": 1,
   "id": "79f9a7ce-cf92-41df-a4cc-85b73f6d21a1",
   "metadata": {},
   "outputs": [],
   "source": [
    "import pandas as pd\n",
    "import numpy as np\n",
    "import os\n",
    "import seaborn as sns\n",
    "\n",
    "from matplotlib import pyplot as plt"
   ]
  },
  {
   "cell_type": "code",
   "execution_count": 2,
   "id": "68d4ce5d-ee62-44cb-8711-8ae09a037631",
   "metadata": {},
   "outputs": [],
   "source": [
    "DATA_PATH = '3_spip'"
   ]
  },
  {
   "cell_type": "markdown",
   "id": "3e05f020-a748-4673-aa46-bae0701f71e5",
   "metadata": {},
   "source": [
    "## Download the data\n",
    "Make function to get names from vcf files"
   ]
  },
  {
   "cell_type": "code",
   "execution_count": 3,
   "id": "9345b8f5-56e5-47f5-9499-bb994f972e66",
   "metadata": {},
   "outputs": [],
   "source": [
    "def get_vcf_names(vcf_path):\n",
    "    with open(vcf_path, \"rt\") as ifile:\n",
    "          for line in ifile:\n",
    "            if line.startswith(\"#CHROM\"):\n",
    "                  vcf_names = [x for x in line.split('\\t')]\n",
    "                  break\n",
    "    return vcf_names"
   ]
  },
  {
   "cell_type": "code",
   "execution_count": 4,
   "id": "222cdc75-34af-442e-8544-31c8c436e841",
   "metadata": {},
   "outputs": [],
   "source": [
    "names = get_vcf_names(os.path.join(DATA_PATH, \n",
    "                                   'ABCA4_deep_intronic_indexed.vep.spliceai.pangolin.spip.vcf'))\n",
    "\n",
    "ABCA4_path = os.path.join(DATA_PATH, \n",
    "                          'ABCA4_deep_intronic_indexed.vep.spliceai.pangolin.spip.vcf')\n",
    "CRB1_path = os.path.join(DATA_PATH, \n",
    "                         'CRB1_deep_intronic_indexed.vep.spliceai.pangolin.spip.vcf')\n",
    "USH2A_path = os.path.join(DATA_PATH, \n",
    "                          'USH2A_deep_intronic_SNP_indexed.vep.spliceai.pangolin.spip.vcf')"
   ]
  },
  {
   "cell_type": "code",
   "execution_count": 5,
   "id": "34db4c82-c659-4392-80bf-d75a4ac38205",
   "metadata": {},
   "outputs": [],
   "source": [
    "ABCA4_vcf = pd.read_csv(ABCA4_path, \n",
    "                        comment='#', \n",
    "                        sep='\\t',\n",
    "                        header=None, \n",
    "                        names=names)\n",
    "\n",
    "CRB1_vcf = pd.read_csv(CRB1_path, \n",
    "                       comment='#', \n",
    "                       sep='\\t', \n",
    "                       header=None, \n",
    "                       names=names)\n",
    "\n",
    "USH2A_vcf = pd.read_csv(USH2A_path, \n",
    "                        comment='#', \n",
    "                        sep='\\t', \n",
    "                        header=None, \n",
    "                        names=names)"
   ]
  },
  {
   "cell_type": "code",
   "execution_count": 6,
   "id": "d934db6d-5814-416f-8857-225a1f678427",
   "metadata": {},
   "outputs": [
    {
     "data": {
      "text/html": [
       "<div>\n",
       "<style scoped>\n",
       "    .dataframe tbody tr th:only-of-type {\n",
       "        vertical-align: middle;\n",
       "    }\n",
       "\n",
       "    .dataframe tbody tr th {\n",
       "        vertical-align: top;\n",
       "    }\n",
       "\n",
       "    .dataframe thead th {\n",
       "        text-align: right;\n",
       "    }\n",
       "</style>\n",
       "<table border=\"1\" class=\"dataframe\">\n",
       "  <thead>\n",
       "    <tr style=\"text-align: right;\">\n",
       "      <th></th>\n",
       "      <th>#CHROM</th>\n",
       "      <th>POS</th>\n",
       "      <th>ID</th>\n",
       "      <th>REF</th>\n",
       "      <th>ALT</th>\n",
       "      <th>QUAL</th>\n",
       "      <th>FILTER</th>\n",
       "      <th>INFO\\n</th>\n",
       "    </tr>\n",
       "  </thead>\n",
       "  <tbody>\n",
       "    <tr>\n",
       "      <th>0</th>\n",
       "      <td>1</td>\n",
       "      <td>93993294</td>\n",
       "      <td>ENST00000370225.4:c.6817-55_6817-53del</td>\n",
       "      <td>GTAC</td>\n",
       "      <td>G</td>\n",
       "      <td>.</td>\n",
       "      <td>.</td>\n",
       "      <td>CSQ=-|intron_variant|MODIFIER|ABCA4|ENSG000001...</td>\n",
       "    </tr>\n",
       "    <tr>\n",
       "      <th>1</th>\n",
       "      <td>1</td>\n",
       "      <td>93993296</td>\n",
       "      <td>ENST00000370225.4:c.6817-54T&gt;C</td>\n",
       "      <td>A</td>\n",
       "      <td>G</td>\n",
       "      <td>.</td>\n",
       "      <td>.</td>\n",
       "      <td>CSQ=G|intron_variant|MODIFIER|ABCA4|ENSG000001...</td>\n",
       "    </tr>\n",
       "    <tr>\n",
       "      <th>2</th>\n",
       "      <td>1</td>\n",
       "      <td>93993303</td>\n",
       "      <td>ENST00000370225.4:c.6817-61A&gt;G</td>\n",
       "      <td>T</td>\n",
       "      <td>C</td>\n",
       "      <td>.</td>\n",
       "      <td>.</td>\n",
       "      <td>CSQ=C|intron_variant|MODIFIER|ABCA4|ENSG000001...</td>\n",
       "    </tr>\n",
       "    <tr>\n",
       "      <th>3</th>\n",
       "      <td>1</td>\n",
       "      <td>93993335</td>\n",
       "      <td>ENST00000370225.4:c.6817-93T&gt;C</td>\n",
       "      <td>A</td>\n",
       "      <td>G</td>\n",
       "      <td>.</td>\n",
       "      <td>.</td>\n",
       "      <td>CSQ=G|intron_variant|MODIFIER|ABCA4|ENSG000001...</td>\n",
       "    </tr>\n",
       "    <tr>\n",
       "      <th>4</th>\n",
       "      <td>1</td>\n",
       "      <td>93993343</td>\n",
       "      <td>ENST00000370225.4:c.6817-102del</td>\n",
       "      <td>AG</td>\n",
       "      <td>A</td>\n",
       "      <td>.</td>\n",
       "      <td>.</td>\n",
       "      <td>CSQ=-|intron_variant|MODIFIER|ABCA4|ENSG000001...</td>\n",
       "    </tr>\n",
       "  </tbody>\n",
       "</table>\n",
       "</div>"
      ],
      "text/plain": [
       "   #CHROM       POS                                      ID   REF ALT QUAL  \\\n",
       "0       1  93993294  ENST00000370225.4:c.6817-55_6817-53del  GTAC   G    .   \n",
       "1       1  93993296          ENST00000370225.4:c.6817-54T>C     A   G    .   \n",
       "2       1  93993303          ENST00000370225.4:c.6817-61A>G     T   C    .   \n",
       "3       1  93993335          ENST00000370225.4:c.6817-93T>C     A   G    .   \n",
       "4       1  93993343         ENST00000370225.4:c.6817-102del    AG   A    .   \n",
       "\n",
       "  FILTER                                             INFO\\n  \n",
       "0      .  CSQ=-|intron_variant|MODIFIER|ABCA4|ENSG000001...  \n",
       "1      .  CSQ=G|intron_variant|MODIFIER|ABCA4|ENSG000001...  \n",
       "2      .  CSQ=C|intron_variant|MODIFIER|ABCA4|ENSG000001...  \n",
       "3      .  CSQ=G|intron_variant|MODIFIER|ABCA4|ENSG000001...  \n",
       "4      .  CSQ=-|intron_variant|MODIFIER|ABCA4|ENSG000001...  "
      ]
     },
     "execution_count": 6,
     "metadata": {},
     "output_type": "execute_result"
    }
   ],
   "source": [
    "ABCA4_vcf.head()"
   ]
  },
  {
   "cell_type": "code",
   "execution_count": 7,
   "id": "fa7e1c23-8e42-41f0-b727-cbfae32f8e58",
   "metadata": {},
   "outputs": [
    {
     "data": {
      "text/html": [
       "<div>\n",
       "<style scoped>\n",
       "    .dataframe tbody tr th:only-of-type {\n",
       "        vertical-align: middle;\n",
       "    }\n",
       "\n",
       "    .dataframe tbody tr th {\n",
       "        vertical-align: top;\n",
       "    }\n",
       "\n",
       "    .dataframe thead th {\n",
       "        text-align: right;\n",
       "    }\n",
       "</style>\n",
       "<table border=\"1\" class=\"dataframe\">\n",
       "  <thead>\n",
       "    <tr style=\"text-align: right;\">\n",
       "      <th></th>\n",
       "      <th>#CHROM</th>\n",
       "      <th>POS</th>\n",
       "      <th>ID</th>\n",
       "      <th>REF</th>\n",
       "      <th>ALT</th>\n",
       "      <th>QUAL</th>\n",
       "      <th>FILTER</th>\n",
       "      <th>INFO\\n</th>\n",
       "    </tr>\n",
       "  </thead>\n",
       "  <tbody>\n",
       "    <tr>\n",
       "      <th>0</th>\n",
       "      <td>1</td>\n",
       "      <td>197268533</td>\n",
       "      <td>ENST00000367400.8:c.70+51A&gt;G</td>\n",
       "      <td>A</td>\n",
       "      <td>G</td>\n",
       "      <td>.</td>\n",
       "      <td>.</td>\n",
       "      <td>CSQ=G|intron_variant|MODIFIER|CRB1|ENSG0000013...</td>\n",
       "    </tr>\n",
       "    <tr>\n",
       "      <th>1</th>\n",
       "      <td>1</td>\n",
       "      <td>197268544</td>\n",
       "      <td>ENST00000367400.8:c.70+62A&gt;C</td>\n",
       "      <td>A</td>\n",
       "      <td>C</td>\n",
       "      <td>.</td>\n",
       "      <td>.</td>\n",
       "      <td>CSQ=C|intron_variant|MODIFIER|CRB1|ENSG0000013...</td>\n",
       "    </tr>\n",
       "    <tr>\n",
       "      <th>2</th>\n",
       "      <td>1</td>\n",
       "      <td>197268557</td>\n",
       "      <td>ENST00000367400.8:c.70+75T&gt;C</td>\n",
       "      <td>T</td>\n",
       "      <td>C</td>\n",
       "      <td>.</td>\n",
       "      <td>.</td>\n",
       "      <td>CSQ=C|intron_variant|MODIFIER|CRB1|ENSG0000013...</td>\n",
       "    </tr>\n",
       "    <tr>\n",
       "      <th>3</th>\n",
       "      <td>1</td>\n",
       "      <td>197268576</td>\n",
       "      <td>ENST00000367400.8:c.70+94T&gt;C</td>\n",
       "      <td>T</td>\n",
       "      <td>C</td>\n",
       "      <td>.</td>\n",
       "      <td>.</td>\n",
       "      <td>CSQ=C|intron_variant|MODIFIER|CRB1|ENSG0000013...</td>\n",
       "    </tr>\n",
       "    <tr>\n",
       "      <th>4</th>\n",
       "      <td>1</td>\n",
       "      <td>197268580</td>\n",
       "      <td>ENST00000367400.8:c.70+99_70+104del</td>\n",
       "      <td>ATGCTAA</td>\n",
       "      <td>A</td>\n",
       "      <td>.</td>\n",
       "      <td>.</td>\n",
       "      <td>CSQ=-|intron_variant|MODIFIER|CRB1|ENSG0000013...</td>\n",
       "    </tr>\n",
       "  </tbody>\n",
       "</table>\n",
       "</div>"
      ],
      "text/plain": [
       "   #CHROM        POS                                   ID      REF ALT QUAL  \\\n",
       "0       1  197268533         ENST00000367400.8:c.70+51A>G        A   G    .   \n",
       "1       1  197268544         ENST00000367400.8:c.70+62A>C        A   C    .   \n",
       "2       1  197268557         ENST00000367400.8:c.70+75T>C        T   C    .   \n",
       "3       1  197268576         ENST00000367400.8:c.70+94T>C        T   C    .   \n",
       "4       1  197268580  ENST00000367400.8:c.70+99_70+104del  ATGCTAA   A    .   \n",
       "\n",
       "  FILTER                                             INFO\\n  \n",
       "0      .  CSQ=G|intron_variant|MODIFIER|CRB1|ENSG0000013...  \n",
       "1      .  CSQ=C|intron_variant|MODIFIER|CRB1|ENSG0000013...  \n",
       "2      .  CSQ=C|intron_variant|MODIFIER|CRB1|ENSG0000013...  \n",
       "3      .  CSQ=C|intron_variant|MODIFIER|CRB1|ENSG0000013...  \n",
       "4      .  CSQ=-|intron_variant|MODIFIER|CRB1|ENSG0000013...  "
      ]
     },
     "execution_count": 7,
     "metadata": {},
     "output_type": "execute_result"
    }
   ],
   "source": [
    "CRB1_vcf.head()"
   ]
  },
  {
   "cell_type": "code",
   "execution_count": 8,
   "id": "00e1288a-ac35-4b3d-b955-5aaa5cab7990",
   "metadata": {},
   "outputs": [
    {
     "data": {
      "text/html": [
       "<div>\n",
       "<style scoped>\n",
       "    .dataframe tbody tr th:only-of-type {\n",
       "        vertical-align: middle;\n",
       "    }\n",
       "\n",
       "    .dataframe tbody tr th {\n",
       "        vertical-align: top;\n",
       "    }\n",
       "\n",
       "    .dataframe thead th {\n",
       "        text-align: right;\n",
       "    }\n",
       "</style>\n",
       "<table border=\"1\" class=\"dataframe\">\n",
       "  <thead>\n",
       "    <tr style=\"text-align: right;\">\n",
       "      <th></th>\n",
       "      <th>#CHROM</th>\n",
       "      <th>POS</th>\n",
       "      <th>ID</th>\n",
       "      <th>REF</th>\n",
       "      <th>ALT</th>\n",
       "      <th>QUAL</th>\n",
       "      <th>FILTER</th>\n",
       "      <th>INFO\\n</th>\n",
       "    </tr>\n",
       "  </thead>\n",
       "  <tbody>\n",
       "    <tr>\n",
       "      <th>0</th>\n",
       "      <td>1</td>\n",
       "      <td>215625926</td>\n",
       "      <td>ENST00000307340.8:c.15520-56T&gt;A</td>\n",
       "      <td>T</td>\n",
       "      <td>A</td>\n",
       "      <td>.</td>\n",
       "      <td>.</td>\n",
       "      <td>CSQ=A|downstream_gene_variant|MODIFIER|SNORD11...</td>\n",
       "    </tr>\n",
       "    <tr>\n",
       "      <th>1</th>\n",
       "      <td>1</td>\n",
       "      <td>215625926</td>\n",
       "      <td>ENST00000307340.8:c.15520-56T&gt;C</td>\n",
       "      <td>T</td>\n",
       "      <td>C</td>\n",
       "      <td>.</td>\n",
       "      <td>.</td>\n",
       "      <td>CSQ=C|downstream_gene_variant|MODIFIER|SNORD11...</td>\n",
       "    </tr>\n",
       "    <tr>\n",
       "      <th>2</th>\n",
       "      <td>1</td>\n",
       "      <td>215625928</td>\n",
       "      <td>ENST00000307340.8:c.15520-58G&gt;A</td>\n",
       "      <td>G</td>\n",
       "      <td>A</td>\n",
       "      <td>.</td>\n",
       "      <td>.</td>\n",
       "      <td>CSQ=A|downstream_gene_variant|MODIFIER|SNORD11...</td>\n",
       "    </tr>\n",
       "    <tr>\n",
       "      <th>3</th>\n",
       "      <td>1</td>\n",
       "      <td>215625929</td>\n",
       "      <td>ENST00000307340.8:c.15520-59T&gt;C</td>\n",
       "      <td>T</td>\n",
       "      <td>C</td>\n",
       "      <td>.</td>\n",
       "      <td>.</td>\n",
       "      <td>CSQ=C|downstream_gene_variant|MODIFIER|SNORD11...</td>\n",
       "    </tr>\n",
       "    <tr>\n",
       "      <th>4</th>\n",
       "      <td>1</td>\n",
       "      <td>215625934</td>\n",
       "      <td>ENST00000307340.8:c.15520-64T&gt;A</td>\n",
       "      <td>T</td>\n",
       "      <td>A</td>\n",
       "      <td>.</td>\n",
       "      <td>.</td>\n",
       "      <td>CSQ=A|downstream_gene_variant|MODIFIER|SNORD11...</td>\n",
       "    </tr>\n",
       "  </tbody>\n",
       "</table>\n",
       "</div>"
      ],
      "text/plain": [
       "   #CHROM        POS                               ID REF ALT QUAL FILTER  \\\n",
       "0       1  215625926  ENST00000307340.8:c.15520-56T>A   T   A    .      .   \n",
       "1       1  215625926  ENST00000307340.8:c.15520-56T>C   T   C    .      .   \n",
       "2       1  215625928  ENST00000307340.8:c.15520-58G>A   G   A    .      .   \n",
       "3       1  215625929  ENST00000307340.8:c.15520-59T>C   T   C    .      .   \n",
       "4       1  215625934  ENST00000307340.8:c.15520-64T>A   T   A    .      .   \n",
       "\n",
       "                                              INFO\\n  \n",
       "0  CSQ=A|downstream_gene_variant|MODIFIER|SNORD11...  \n",
       "1  CSQ=C|downstream_gene_variant|MODIFIER|SNORD11...  \n",
       "2  CSQ=A|downstream_gene_variant|MODIFIER|SNORD11...  \n",
       "3  CSQ=C|downstream_gene_variant|MODIFIER|SNORD11...  \n",
       "4  CSQ=A|downstream_gene_variant|MODIFIER|SNORD11...  "
      ]
     },
     "execution_count": 8,
     "metadata": {},
     "output_type": "execute_result"
    }
   ],
   "source": [
    "USH2A_vcf.head()"
   ]
  },
  {
   "cell_type": "markdown",
   "id": "f9742aac-ca4e-4fd7-b33f-b13d9ea96953",
   "metadata": {},
   "source": [
    " Collect all variants in the table"
   ]
  },
  {
   "cell_type": "code",
   "execution_count": 9,
   "id": "b5ced54a-5de1-4abb-8985-b8fb25a5e695",
   "metadata": {},
   "outputs": [],
   "source": [
    "ABCA4_vcf['Gene'] = 'ABCA4'\n",
    "CRB1_vcf['Gene'] = 'CRB1'\n",
    "USH2A_vcf['Gene'] = 'USH2A'\n",
    "total_table = pd.concat((ABCA4_vcf, CRB1_vcf, USH2A_vcf))"
   ]
  },
  {
   "cell_type": "markdown",
   "id": "249cd14e-3970-42a0-a0a8-189bc90c42a6",
   "metadata": {},
   "source": [
    "## Add the obtained tool scores"
   ]
  },
  {
   "cell_type": "code",
   "execution_count": 10,
   "id": "14c6ce02-e21f-4399-948b-aef5f42fff7c",
   "metadata": {},
   "outputs": [],
   "source": [
    "def process_spip(preds: list):\n",
    "    _preds = preds.split(\",\")\n",
    "    _max = 0\n",
    "    for _p in _preds:\n",
    "        score = float(_p.split(\"|\")[4])\n",
    "        if score > _max:\n",
    "            _max = score\n",
    "    return _max * 1000\n",
    "\n",
    "\n",
    "def process_spliceai(preds: str):\n",
    "    pred_list = preds.split('|')[2:6]\n",
    "    max = 0\n",
    "    for _ in pred_list:\n",
    "        score = float(_)\n",
    "        if score > max:\n",
    "            max = score\n",
    "    return max\n",
    "\n",
    "\n",
    "def process_pangolin(pred):\n",
    "    max = 0\n",
    "    pred_list = pred.split('|')[1:3]\n",
    "    for _ in pred_list:\n",
    "        score = float(_.split(':')[1])\n",
    "        if score > max:\n",
    "            max = score\n",
    "    return max\n",
    "\n",
    "\n",
    "def spotlight_spliceai(pred):\n",
    "    sai_score = 'Not predicted'\n",
    "    prelim_list = pred['INFO\\n'].split(';')\n",
    "    for description in prelim_list:\n",
    "        if description.startswith('SpliceAI='):\n",
    "            sai_score = process_spliceai(description)\n",
    "    return sai_score\n",
    "\n",
    "\n",
    "def spotlight_spip(pred):\n",
    "    spip_score = 'Not predicted'\n",
    "    prelim_list = pred['INFO\\n'].split(';')\n",
    "    for description in prelim_list:\n",
    "        if description.startswith('SPiP='):\n",
    "            spip_score = process_spip(description)\n",
    "    return spip_score\n",
    "\n",
    "\n",
    "def spotlight_pangolin(pred):\n",
    "    pang_score = 'Not predicted'\n",
    "    prelim_list = pred['INFO\\n'].split(';')\n",
    "    for description in prelim_list:\n",
    "        if description.startswith('Pangolin='):\n",
    "            pang_score = process_pangolin(description)\n",
    "    return pang_score\n",
    "    "
   ]
  },
  {
   "cell_type": "code",
   "execution_count": 11,
   "id": "7c3e4d66-2c1d-40d9-a844-c283b322c0d2",
   "metadata": {},
   "outputs": [],
   "source": [
    "total_table['SpliceAI_score'] = total_table.apply(spotlight_spliceai, axis=1)"
   ]
  },
  {
   "cell_type": "code",
   "execution_count": 12,
   "id": "a732bf69-9eed-422a-bb2d-52730cd66014",
   "metadata": {},
   "outputs": [],
   "source": [
    "total_table['Pangolin_score'] = total_table.apply(spotlight_pangolin, axis=1)"
   ]
  },
  {
   "cell_type": "code",
   "execution_count": 13,
   "id": "4ae59f5f-d78b-463f-a4d4-6fe6f3588a34",
   "metadata": {},
   "outputs": [],
   "source": [
    "total_table['SPiP_score'] = total_table.apply(spotlight_spip, axis=1)"
   ]
  },
  {
   "cell_type": "markdown",
   "id": "3952bad4-4b01-484f-ade9-3c4a2228cd4c",
   "metadata": {},
   "source": [
    "## Prediction analysis"
   ]
  },
  {
   "cell_type": "code",
   "execution_count": 14,
   "id": "083f4887-c521-434b-8bb4-57f43626c7e3",
   "metadata": {},
   "outputs": [
    {
     "data": {
      "text/plain": [
       "(202313, 12)"
      ]
     },
     "execution_count": 14,
     "metadata": {},
     "output_type": "execute_result"
    }
   ],
   "source": [
    "total_table.shape"
   ]
  },
  {
   "cell_type": "code",
   "execution_count": 15,
   "id": "932685a4-febe-4dc2-8c2f-5fcb0b6a23b0",
   "metadata": {},
   "outputs": [
    {
     "data": {
      "text/plain": [
       "56307"
      ]
     },
     "execution_count": 15,
     "metadata": {},
     "output_type": "execute_result"
    }
   ],
   "source": [
    "total_table[total_table['SpliceAI_score'] != 'Not predicted'].count().iloc[0]"
   ]
  },
  {
   "cell_type": "code",
   "execution_count": 16,
   "id": "dee49b92-81c0-4c97-b35c-8020e0433f42",
   "metadata": {},
   "outputs": [
    {
     "data": {
      "text/plain": [
       "62020"
      ]
     },
     "execution_count": 16,
     "metadata": {},
     "output_type": "execute_result"
    }
   ],
   "source": [
    "total_table[total_table['Pangolin_score'] != 'Not predicted'].count().iloc[0]"
   ]
  },
  {
   "cell_type": "code",
   "execution_count": 17,
   "id": "b2617e1f-48f0-49f4-8e72-610a1303ac64",
   "metadata": {},
   "outputs": [
    {
     "data": {
      "text/plain": [
       "202313"
      ]
     },
     "execution_count": 17,
     "metadata": {},
     "output_type": "execute_result"
    }
   ],
   "source": [
    "total_table[total_table['SPiP_score'] != 'Not predicted'].count().iloc[0]"
   ]
  },
  {
   "cell_type": "code",
   "execution_count": 18,
   "id": "e1e47a9a-d2d3-41ed-b437-22f18b47d49d",
   "metadata": {},
   "outputs": [
    {
     "name": "stderr",
     "output_type": "stream",
     "text": [
      "/var/folders/yn/8b9cs2_s6td7fmf54qzzqlj80000gn/T/ipykernel_1487/1083462592.py:4: FutureWarning: Setting an item of incompatible dtype is deprecated and will raise an error in a future version of pandas. Value 'Predicted' has dtype incompatible with float64, please explicitly cast to a compatible dtype first.\n",
      "  table_visual.loc[table_visual['SPiP_score'] != 'Not predicted', 'SPiP_score'] = 'Predicted'\n"
     ]
    }
   ],
   "source": [
    "table_visual = total_table.copy()\n",
    "table_visual.loc[table_visual['SpliceAI_score'] != 'Not predicted', 'SpliceAI_score'] = 'Predicted'\n",
    "table_visual.loc[table_visual['Pangolin_score'] != 'Not predicted', 'Pangolin_score'] = 'Predicted'\n",
    "table_visual.loc[table_visual['SPiP_score'] != 'Not predicted', 'SPiP_score'] = 'Predicted'"
   ]
  },
  {
   "cell_type": "code",
   "execution_count": 19,
   "id": "ffa6e901-06a9-4123-8a51-b03fe03f8ff6",
   "metadata": {},
   "outputs": [
    {
     "data": {
      "image/png": "[encoded data removed]",
      "text/plain": [
       "<Figure size 1600x600 with 3 Axes>"
      ]
     },
     "metadata": {},
     "output_type": "display_data"
    }
   ],
   "source": [
    "fig, axes = plt.subplots(nrows=1, ncols=3, figsize=(16, 6))\n",
    "plt.suptitle('Percentage of predicted variants', fontsize=22)\n",
    "\n",
    "sns.histplot(data=table_visual, \n",
    "             x='SPiP_score', hue='Gene',\n",
    "             palette=sns.color_palette(\"Paired\")[:3], \n",
    "             multiple=\"stack\", ax=axes[0], legend=False, stat='percent')\n",
    "axes[0].set_ylabel('Percentage %', fontsize=18)\n",
    "axes[0].set_xlabel('\\nSPiP', fontsize=18)\n",
    "axes[0].set_ylim(0, 105)\n",
    "\n",
    "\n",
    "sns.histplot(data=table_visual, \n",
    "             x='Pangolin_score', hue='Gene',\n",
    "             palette=sns.color_palette(\"Paired\")[:3], \n",
    "             multiple=\"stack\", stat='percent', ax=axes[1], legend=False)\n",
    "axes[1].set_xlabel('\\nPangolin', fontsize=18)\n",
    "axes[1].set_ylim(0, 105)\n",
    "axes[1].set_ylabel('')\n",
    "\n",
    "\n",
    "sns.histplot(data=table_visual, \n",
    "             x='SpliceAI_score', hue='Gene',\n",
    "             palette=sns.color_palette(\"Paired\")[:3], \n",
    "             multiple=\"stack\", stat='percent')\n",
    "axes[2].set_ylabel('')\n",
    "axes[2].set_xlabel('\\nSpliceAI', fontsize=18)\n",
    "axes[2].set_ylim(0, 105)\n",
    "plt.xlim(reversed(plt.xlim()))\n",
    "plt.setp(axes[2].get_legend().get_texts(), fontsize='14')\n",
    "plt.setp(axes[2].get_legend().get_title(), fontsize='16')\n",
    "#plt.savefig(\"my_plot.png\", bbox_inches=\"tight\", dpi=300)\n",
    "None"
   ]
  },
  {
   "cell_type": "markdown",
   "id": "eca37d55-1a61-4d65-bea6-ef3a37028336",
   "metadata": {},
   "source": [
    "## Annotate variants"
   ]
  },
  {
   "cell_type": "code",
   "execution_count": 20,
   "id": "71383d78-d70d-42b2-b942-7ef02b2f99fc",
   "metadata": {},
   "outputs": [],
   "source": [
    "def annotate_prediction(line):\n",
    "    if line['SpliceAI_score'] != 'Not predicted':\n",
    "        sai_score = line['SpliceAI_score']\n",
    "    else:\n",
    "        sai_score = -10\n",
    "    if line['Pangolin_score'] != 'Not predicted':\n",
    "        pang_score = line['Pangolin_score']\n",
    "    else:\n",
    "        pang_score = -10\n",
    "    if line['SPiP_score'] != 'Not predicted':\n",
    "        spip_score = line['SPiP_score']\n",
    "    else:\n",
    "        spip_score = -10\n",
    "    if (sai_score > 0.05 and \n",
    "        pang_score > 0.05 and \n",
    "        spip_score > 0.015):\n",
    "        output = 'Pathogenic 🔴'\n",
    "    elif (sai_score > 0.05 and pang_score > 0.05 and spip_score <= 0.015 or \n",
    "          sai_score <= 0.05 and pang_score > 0.05 and spip_score > 0.015 or \n",
    "          sai_score > 0.05 and pang_score <= 0.05 and spip_score > 0.015):\n",
    "        output = 'Pathogenic 🟠'\n",
    "    elif (sai_score > 0.05 and pang_score <= 0.05 and spip_score <= 0.015 or \n",
    "          sai_score <= 0.05 and pang_score > 0.05 and spip_score <= 0.015 or \n",
    "          sai_score <= 0.05 and pang_score <= 0.05 and spip_score > 0.015):\n",
    "        output = 'Pathogenic 🟡'\n",
    "    else:\n",
    "        output = 'Benign 🟢'\n",
    "    return output\n",
    "    "
   ]
  },
  {
   "cell_type": "code",
   "execution_count": 21,
   "id": "0aee0622-e604-4eb1-83db-77d28a9ca650",
   "metadata": {},
   "outputs": [],
   "source": [
    "total_table['Prediction'] = total_table.apply(annotate_prediction, axis=1)"
   ]
  },
  {
   "cell_type": "code",
   "execution_count": 22,
   "id": "dce0db07-2196-4fd4-a5d2-d127c075e572",
   "metadata": {},
   "outputs": [
    {
     "data": {
      "text/plain": [
       "158"
      ]
     },
     "execution_count": 22,
     "metadata": {},
     "output_type": "execute_result"
    }
   ],
   "source": [
    "total_table[total_table['Prediction'] == 'Pathogenic 🔴'].count().iloc[0]"
   ]
  },
  {
   "cell_type": "code",
   "execution_count": 23,
   "id": "a497d9e4-78ee-4c79-9737-77e313c5cca5",
   "metadata": {},
   "outputs": [
    {
     "data": {
      "text/plain": [
       "488"
      ]
     },
     "execution_count": 23,
     "metadata": {},
     "output_type": "execute_result"
    }
   ],
   "source": [
    "total_table[total_table['Prediction'] == 'Pathogenic 🟠'].count().iloc[0]"
   ]
  },
  {
   "cell_type": "code",
   "execution_count": 24,
   "id": "8b510ffb-61e8-434e-a0d6-5d3e016c6195",
   "metadata": {},
   "outputs": [
    {
     "data": {
      "text/plain": [
       "9301"
      ]
     },
     "execution_count": 24,
     "metadata": {},
     "output_type": "execute_result"
    }
   ],
   "source": [
    "total_table[total_table['Prediction'] == 'Pathogenic 🟡'].count().iloc[0]"
   ]
  },
  {
   "cell_type": "code",
   "execution_count": 25,
   "id": "37e3c30c-83dd-41b3-83fb-bb40296d8762",
   "metadata": {},
   "outputs": [
    {
     "data": {
      "text/plain": [
       "192366"
      ]
     },
     "execution_count": 25,
     "metadata": {},
     "output_type": "execute_result"
    }
   ],
   "source": [
    "total_table[total_table['Prediction'] == 'Benign 🟢'].count().iloc[0]"
   ]
  },
  {
   "cell_type": "markdown",
   "id": "65ee6b25-782e-49ac-8232-44fa03954f6e",
   "metadata": {},
   "source": [
    "## Create result table"
   ]
  },
  {
   "cell_type": "code",
   "execution_count": 26,
   "id": "7a7acc04-94c4-4b49-b719-b020d2923fc9",
   "metadata": {},
   "outputs": [
    {
     "data": {
      "text/plain": [
       "Index(['#CHROM', 'POS', 'ID', 'REF', 'ALT', 'QUAL', 'FILTER', 'INFO\\n', 'Gene',\n",
       "       'SpliceAI_score', 'Pangolin_score', 'SPiP_score', 'Prediction'],\n",
       "      dtype='object')"
      ]
     },
     "execution_count": 26,
     "metadata": {},
     "output_type": "execute_result"
    }
   ],
   "source": [
    "total_table.columns"
   ]
  },
  {
   "cell_type": "code",
   "execution_count": 27,
   "id": "c736a8eb-f503-4a83-b888-73a5c1bd1d75",
   "metadata": {},
   "outputs": [],
   "source": [
    "new_names = {'#CHROM':'Chrom', \n",
    "             'POS': 'Position', \n",
    "             'ID': 'HGVSc', \n",
    "             'REF': 'Ref', \n",
    "             'ALT': 'Alt'}\n",
    "\n",
    "result_table = total_table[['#CHROM', 'Gene', 'POS', 'ID', 'REF', 'ALT', \n",
    "                            'SpliceAI_score', 'Pangolin_score', 'SPiP_score', \n",
    "                             'Prediction']].rename(columns=new_names)"
   ]
  },
  {
   "cell_type": "code",
   "execution_count": 28,
   "id": "abeb7cf6-0367-44ff-8042-0e17ed499ade",
   "metadata": {},
   "outputs": [
    {
     "data": {
      "text/plain": [
       "(202313, 10)"
      ]
     },
     "execution_count": 28,
     "metadata": {},
     "output_type": "execute_result"
    }
   ],
   "source": [
    "result_table.shape"
   ]
  },
  {
   "cell_type": "markdown",
   "id": "6b85aef7-9338-499b-b2a1-ce47fcd7b02b",
   "metadata": {},
   "source": [
    "Save the result"
   ]
  },
  {
   "cell_type": "code",
   "execution_count": null,
   "id": "51bb2133-75ef-45c0-84bf-5029d6576092",
   "metadata": {},
   "outputs": [],
   "source": [
    "#result_table.to_csv('ABCA4_CRB1_USH2A_annot.csv', index=False)"
   ]
  }
 ],
 "metadata": {
  "kernelspec": {
   "display_name": "Python 3 (ipykernel)",
   "language": "python",
   "name": "python3"
  },
  "language_info": {
   "codemirror_mode": {
    "name": "ipython",
    "version": 3
   },
   "file_extension": ".py",
   "mimetype": "text/x-python",
   "name": "python",
   "nbconvert_exporter": "python",
   "pygments_lexer": "ipython3",
   "version": "3.11.0"
  }
 },
 "nbformat": 4,
 "nbformat_minor": 5
}
